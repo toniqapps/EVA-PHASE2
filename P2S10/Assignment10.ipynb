{
  "nbformat": 4,
  "nbformat_minor": 0,
  "metadata": {
    "kernelspec": {
      "name": "python3",
      "display_name": "Python 3"
    },
    "colab": {
      "name": "Assignment10.ipynb",
      "provenance": [],
      "collapsed_sections": []
    },
    "accelerator": "GPU"
  },
  "cells": [
    {
      "cell_type": "code",
      "metadata": {
        "id": "3tdmB7-u5jpR",
        "colab_type": "code",
        "colab": {}
      },
      "source": [
        "# !pip install kivy\n",
        "# !pip install torchsummary"
      ],
      "execution_count": 0,
      "outputs": []
    },
    {
      "cell_type": "code",
      "metadata": {
        "id": "MjqQ-V3j5Kmm",
        "colab_type": "code",
        "outputId": "e8f71fef-8c7e-46d5-ac67-6abe5320ba12",
        "colab": {
          "base_uri": "https://localhost:8080/",
          "height": 119
        }
      },
      "source": [
        "import os\n",
        "import time\n",
        "import random\n",
        "import numpy as np\n",
        "import matplotlib.pyplot as plt\n",
        "import torch\n",
        "import torch.nn as nn\n",
        "import torch.nn.functional as F\n",
        "from torch.autograd import Variable\n",
        "import torch.optim as optim\n",
        "from torchvision import datasets, transforms\n",
        "from collections import deque\n",
        "from torchsummary import summary\n",
        "import autocar_env"
      ],
      "execution_count": 2,
      "outputs": [
        {
          "output_type": "stream",
          "text": [
            "[INFO   ] [Logger      ] Record log in /root/.kivy/logs/kivy_20-04-19_25.txt\n",
            "[INFO   ] [Kivy        ] v1.11.1\n",
            "[INFO   ] [Kivy        ] Installed at \"/usr/local/lib/python3.6/dist-packages/kivy/__init__.py\"\n",
            "[INFO   ] [Python      ] v3.6.9 (default, Nov  7 2019, 10:44:02) \n",
            "[GCC 8.3.0]\n",
            "[INFO   ] [Python      ] Interpreter at \"/usr/bin/python3\"\n"
          ],
          "name": "stderr"
        }
      ]
    },
    {
      "cell_type": "markdown",
      "metadata": {
        "id": "oRG2znWkRE2o",
        "colab_type": "text"
      },
      "source": [
        "## Step 1: We initialize the Experience Replay memory"
      ]
    },
    {
      "cell_type": "code",
      "metadata": {
        "id": "2uE2-IS25Kms",
        "colab_type": "code",
        "colab": {}
      },
      "source": [
        "class ReplayBuffer(object):\n",
        "    def __init__(self, max_size=1e6):\n",
        "        self.storage = []\n",
        "        self.max_size = max_size\n",
        "        self.ptr = 0\n",
        "\n",
        "    def add(self, transition):\n",
        "        if len(self.storage) == self.max_size:\n",
        "            self.storage[int(self.ptr)] = transition\n",
        "            self.ptr = (self.ptr + 1) % self.max_size\n",
        "        else:\n",
        "            self.storage.append(transition)\n",
        "\n",
        "    def sample(self, batch_size):\n",
        "        ind = np.random.randint(0, len(self.storage), size=batch_size)\n",
        "        batch_states, batch_next_states, batch_actions, batch_rewards, batch_dones = [], [], [], [], []\n",
        "        for i in ind: \n",
        "            state, next_state, action, reward, done = self.storage[i]\n",
        "            batch_states.append(np.array(state, copy=False))\n",
        "            batch_next_states.append(np.array(next_state, copy=False))\n",
        "            batch_actions.append(np.array(action, copy=False))\n",
        "            batch_rewards.append(np.array(reward, copy=False))\n",
        "            batch_dones.append(np.array(done, copy=False))\n",
        "        return np.array(batch_states), np.array(batch_next_states), np.array(batch_actions), np.array(batch_rewards).reshape(-1, 1), np.array(batch_dones).reshape(-1, 1)"
      ],
      "execution_count": 0,
      "outputs": []
    },
    {
      "cell_type": "code",
      "metadata": {
        "id": "RvOV2Ra45Kmv",
        "colab_type": "code",
        "colab": {}
      },
      "source": [
        "def conv2d_block(in_channels, out_channels):\n",
        "    return nn.Sequential(\n",
        "        nn.BatchNorm2d(in_channels),\n",
        "        nn.Conv2d(in_channels=in_channels, out_channels=out_channels, kernel_size=(3, 3), padding=0),\n",
        "        nn.ReLU(),\n",
        "        nn.BatchNorm2d(out_channels),\n",
        "        nn.Conv2d(in_channels=out_channels, out_channels=out_channels, kernel_size=(3, 3), padding=0),\n",
        "        nn.ReLU(),\n",
        "        nn.BatchNorm2d(out_channels),\n",
        "        nn.Dropout2d(0.1))\n",
        "\n",
        "def transition_block(in_channels, out_channels):\n",
        "    return nn.Sequential(\n",
        "        nn.Conv2d(in_channels=in_channels, out_channels=out_channels, kernel_size=(1, 1), padding=0),\n",
        "        nn.ReLU(),\n",
        "        nn.MaxPool2d(kernel_size=2, stride=2),\n",
        "        nn.Dropout2d(0.1))"
      ],
      "execution_count": 0,
      "outputs": []
    },
    {
      "cell_type": "code",
      "metadata": {
        "id": "v4B3SHF58WIE",
        "colab_type": "code",
        "colab": {}
      },
      "source": [
        "# Selecting the device (CPU or GPU)\n",
        "device = torch.device(\"cuda\" if torch.cuda.is_available() else \"cpu\")"
      ],
      "execution_count": 0,
      "outputs": []
    },
    {
      "cell_type": "markdown",
      "metadata": {
        "id": "wn5KknaJRT3Z",
        "colab_type": "text"
      },
      "source": [
        "## Step 2: We build one neural network for the Actor model and one neural network for the Actor target"
      ]
    },
    {
      "cell_type": "code",
      "metadata": {
        "id": "OPodvXBi5Kmy",
        "colab_type": "code",
        "colab": {}
      },
      "source": [
        "class Actor(nn.Module):\n",
        "    def __init__(self, state_dim, action_dim, max_action):\n",
        "        super(Actor, self).__init__()\n",
        "        self.convblock1 = nn.Sequential(\n",
        "            nn.Conv2d(in_channels=state_dim, out_channels=16, kernel_size=(3, 3), padding=0), \n",
        "            nn.ReLU()) \n",
        "        self.convblock2 = conv2d_block(in_channels=16, out_channels=16)\n",
        "        self.transitionblock = transition_block(in_channels=16, out_channels=10)\n",
        "        self.convblock3 = conv2d_block(in_channels=10, out_channels=16)\n",
        "        self.convblock4 = nn.Sequential(\n",
        "            nn.Conv2d(in_channels=16, out_channels=10, kernel_size=(1, 1), padding=0),\n",
        "            nn.ReLU(),\n",
        "            nn.BatchNorm2d(10)\n",
        "        )\n",
        "        self.fc1 = nn.Linear(10, 10)\n",
        "        self.fc2 = nn.Linear(10, 1)\n",
        "        self.max_action = max_action\n",
        "\n",
        "    def forward(self, x):\n",
        "        x = self.convblock1(x)\n",
        "        x = self.convblock2(x)\n",
        "        x = self.transitionblock(x)\n",
        "        x = self.convblock3(x)\n",
        "        x = self.convblock4(x)\n",
        "        x = F.adaptive_avg_pool2d(x, (1,1))\n",
        "        x = torch.flatten(x, 1)\n",
        "        x = self.fc1(x)\n",
        "        x = F.relu(x)\n",
        "        x = self.fc2(x)\n",
        "        x = self.max_action * torch.tanh(x)\n",
        "        return x"
      ],
      "execution_count": 0,
      "outputs": []
    },
    {
      "cell_type": "code",
      "metadata": {
        "id": "U2QVj2Li7y-w",
        "colab_type": "code",
        "outputId": "7ef338b1-0d67-4396-df52-3f599c8c4e9a",
        "colab": {
          "base_uri": "https://localhost:8080/",
          "height": 697
        }
      },
      "source": [
        "model = Actor(1,1,1).to(device)\n",
        "summary(model, input_size=(1, 32, 32))"
      ],
      "execution_count": 7,
      "outputs": [
        {
          "output_type": "stream",
          "text": [
            "----------------------------------------------------------------\n",
            "        Layer (type)               Output Shape         Param #\n",
            "================================================================\n",
            "            Conv2d-1           [-1, 16, 30, 30]             160\n",
            "              ReLU-2           [-1, 16, 30, 30]               0\n",
            "       BatchNorm2d-3           [-1, 16, 30, 30]              32\n",
            "            Conv2d-4           [-1, 16, 28, 28]           2,320\n",
            "              ReLU-5           [-1, 16, 28, 28]               0\n",
            "       BatchNorm2d-6           [-1, 16, 28, 28]              32\n",
            "            Conv2d-7           [-1, 16, 26, 26]           2,320\n",
            "              ReLU-8           [-1, 16, 26, 26]               0\n",
            "       BatchNorm2d-9           [-1, 16, 26, 26]              32\n",
            "        Dropout2d-10           [-1, 16, 26, 26]               0\n",
            "           Conv2d-11           [-1, 10, 26, 26]             170\n",
            "             ReLU-12           [-1, 10, 26, 26]               0\n",
            "        MaxPool2d-13           [-1, 10, 13, 13]               0\n",
            "        Dropout2d-14           [-1, 10, 13, 13]               0\n",
            "      BatchNorm2d-15           [-1, 10, 13, 13]              20\n",
            "           Conv2d-16           [-1, 16, 11, 11]           1,456\n",
            "             ReLU-17           [-1, 16, 11, 11]               0\n",
            "      BatchNorm2d-18           [-1, 16, 11, 11]              32\n",
            "           Conv2d-19             [-1, 16, 9, 9]           2,320\n",
            "             ReLU-20             [-1, 16, 9, 9]               0\n",
            "      BatchNorm2d-21             [-1, 16, 9, 9]              32\n",
            "        Dropout2d-22             [-1, 16, 9, 9]               0\n",
            "           Conv2d-23             [-1, 10, 9, 9]             170\n",
            "             ReLU-24             [-1, 10, 9, 9]               0\n",
            "      BatchNorm2d-25             [-1, 10, 9, 9]              20\n",
            "           Linear-26                   [-1, 10]             110\n",
            "           Linear-27                    [-1, 1]              11\n",
            "================================================================\n",
            "Total params: 9,237\n",
            "Trainable params: 9,237\n",
            "Non-trainable params: 0\n",
            "----------------------------------------------------------------\n",
            "Input size (MB): 0.00\n",
            "Forward/backward pass size (MB): 1.19\n",
            "Params size (MB): 0.04\n",
            "Estimated Total Size (MB): 1.23\n",
            "----------------------------------------------------------------\n"
          ],
          "name": "stdout"
        }
      ]
    },
    {
      "cell_type": "markdown",
      "metadata": {
        "id": "7pM46KA8RdLJ",
        "colab_type": "text"
      },
      "source": [
        "## Step 3: We build two neural networks for the two Critic models and two neural networks for the two Critic targets"
      ]
    },
    {
      "cell_type": "code",
      "metadata": {
        "id": "hNGZ8_aG5Km1",
        "colab_type": "code",
        "colab": {}
      },
      "source": [
        "class Critic(nn.Module):\n",
        "    def __init__(self, state_dim, action_dim):\n",
        "        super(Critic, self).__init__()\n",
        "        # Defining the first Critic neural network\n",
        "        self.convblock1 = nn.Sequential(\n",
        "            nn.Conv2d(in_channels=1, out_channels=16, kernel_size=(3, 3), padding=0), \n",
        "            nn.ReLU()) \n",
        "        self.convblock2 = conv2d_block(in_channels=16, out_channels=16)\n",
        "        self.transitionblock1 = transition_block(in_channels=16, out_channels=10)\n",
        "        self.convblock3 = conv2d_block(in_channels=10, out_channels=16)\n",
        "        self.convblock4 = nn.Sequential(\n",
        "            nn.Conv2d(in_channels=16, out_channels=10, kernel_size=(1, 1), padding=0),\n",
        "            nn.ReLU(),\n",
        "            nn.BatchNorm2d(10)\n",
        "        )\n",
        "        self.avgPool2d1 = nn.AvgPool2d(9)\n",
        "        self.fc1 = nn.Linear(10+1, 10)\n",
        "        self.fc2 = nn.Linear(10, 1)\n",
        "        # Defining the second Critic neural network\n",
        "        self.convblock5 = nn.Sequential(\n",
        "            nn.Conv2d(in_channels=1, out_channels=16, kernel_size=(3, 3), padding=0), \n",
        "            nn.ReLU()) \n",
        "        self.convblock6 = conv2d_block(in_channels=16, out_channels=16)\n",
        "        self.transitionblock2 = transition_block(in_channels=16, out_channels=10)\n",
        "        self.convblock7 = conv2d_block(in_channels=10, out_channels=16)\n",
        "        self.convblock8 = nn.Sequential(\n",
        "            nn.Conv2d(in_channels=16, out_channels=10, kernel_size=(1, 1), padding=0),\n",
        "            nn.ReLU(),\n",
        "            nn.BatchNorm2d(10)\n",
        "        )\n",
        "        self.avgPool2d2 = nn.AvgPool2d(9)\n",
        "        self.fc3 = nn.Linear(10 + 1, 10)\n",
        "        self.fc4 = nn.Linear(10, 1)\n",
        "\n",
        "    def forward(self, x, u):\n",
        "        # Forward-Propagation on the first Critic Neural Network\n",
        "        x1 = self.convblock1(x)\n",
        "        x1 = self.convblock2(x1)\n",
        "        x1 = self.transitionblock1(x1)\n",
        "        x1 = self.convblock3(x1)\n",
        "        x1 = self.convblock4(x1)\n",
        "        x1 = F.adaptive_avg_pool2d(x1, (1,1)) \n",
        "        x1 = torch.flatten(x1, 1)\n",
        "        x1 = torch.cat([x1, u], 1)\n",
        "        x1 = self.fc1(x1)\n",
        "        x1 = F.relu(x1)\n",
        "        x1 = self.fc2(x1)\n",
        "        # Forward-Propagation on the second Critic Neural Network\n",
        "        x2 = self.convblock5(x)\n",
        "        x2 = self.convblock6(x2)\n",
        "        x2 = self.transitionblock2(x2)\n",
        "        x2 = self.convblock7(x2)\n",
        "        x2 = self.convblock8(x2)\n",
        "        x2 = F.adaptive_avg_pool2d(x2, (1,1))\n",
        "        x2 = torch.flatten(x2, 1)\n",
        "        x2 = torch.cat([x2, u], 1)\n",
        "        x2 = self.fc1(x2)\n",
        "        x2 = F.relu(x2)\n",
        "        x2 = self.fc2(x2)\n",
        "        return x1, x2\n",
        "\n",
        "    def Q1(self, x, u):\n",
        "        x = self.convblock1(x)\n",
        "        x = self.convblock2(x)\n",
        "        x = self.transitionblock1(x)\n",
        "        x = self.convblock3(x)\n",
        "        x = self.convblock4(x)\n",
        "        x = F.adaptive_avg_pool2d(x, (1,1))\n",
        "        x = torch.flatten(x, 1)\n",
        "        x = torch.cat([x, u], 1)\n",
        "        x = self.fc1(x)\n",
        "        x = F.relu(x)\n",
        "        x = self.fc2(x)\n",
        "        return x"
      ],
      "execution_count": 0,
      "outputs": []
    },
    {
      "cell_type": "markdown",
      "metadata": {
        "id": "Rqrf6UNnRj16",
        "colab_type": "text"
      },
      "source": [
        "## Steps 4 to 15: Training Process"
      ]
    },
    {
      "cell_type": "code",
      "metadata": {
        "id": "oRquqYpE5Km4",
        "colab_type": "code",
        "colab": {}
      },
      "source": [
        "# Building the whole Training Process into a class\n",
        "\n",
        "class TD3(object):\n",
        "  \n",
        "    def __init__(self, state_dim, action_dim, max_action):\n",
        "        self.actor = Actor(state_dim, action_dim, max_action).to(device)\n",
        "        self.actor_target = Actor(state_dim, action_dim, max_action).to(device)\n",
        "        self.actor_target.load_state_dict(self.actor.state_dict())\n",
        "        self.actor_optimizer = torch.optim.Adam(self.actor.parameters())\n",
        "        self.critic = Critic(state_dim, action_dim).to(device)\n",
        "        self.critic_target = Critic(state_dim, action_dim).to(device)\n",
        "        self.critic_target.load_state_dict(self.critic.state_dict())\n",
        "        self.critic_optimizer = torch.optim.Adam(self.critic.parameters())\n",
        "        self.max_action = max_action\n",
        "\n",
        "    def select_action(self, state):\n",
        "        state = torch.Tensor(state).to(device)\n",
        "        state = state.unsqueeze(0).unsqueeze(0)\n",
        "        return self.actor(state).cpu().data.numpy().flatten()\n",
        "\n",
        "    def train(self, replay_buffer, iterations, batch_size=100, discount=0.99, tau=0.005, policy_noise=0.2, noise_clip=0.5, policy_freq=2):\n",
        "    \n",
        "        for it in range(iterations):\n",
        "      \n",
        "            # Step 4: We sample a batch of transitions (s, s’, a, r) from the memory\n",
        "            batch_states, batch_next_states, batch_actions, batch_rewards, batch_dones = replay_buffer.sample(batch_size)\n",
        "            state = torch.Tensor(batch_states).to(device)\n",
        "            next_state = torch.Tensor(batch_next_states).to(device)\n",
        "            action = torch.Tensor(batch_actions).to(device)\n",
        "            reward = torch.Tensor(batch_rewards).to(device)\n",
        "            done = torch.Tensor(batch_dones).to(device)\n",
        "\n",
        "            next_state = next_state.unsqueeze(1)\n",
        "            state = state.unsqueeze(1)\n",
        "            # Step 5: From the next state s’, the Actor target plays the next action a’\n",
        "            next_action = self.actor_target(next_state).squeeze(1)\n",
        "            \n",
        "            # Step 6: We add Gaussian noise to this next action a’ and we clamp it in a range of values supported by the environment\n",
        "            noise = torch.Tensor(batch_actions).data.normal_(0, policy_noise).to(device)\n",
        "            noise = noise.clamp(-noise_clip, noise_clip)\n",
        "            next_action = (next_action + noise).clamp(-self.max_action, self.max_action).unsqueeze(1)\n",
        "            \n",
        "            # Step 7: The two Critic targets take each the couple (s’, a’) as input and return two Q-values Qt1(s’,a’) and Qt2(s’,a’) as outputs\n",
        "            target_Q1, target_Q2 = self.critic_target(next_state, next_action)\n",
        "\n",
        "            # Step 8: We keep the minimum of these two Q-values: min(Qt1, Qt2)\n",
        "            target_Q = torch.min(target_Q1, target_Q2)\n",
        "\n",
        "            # Step 9: We get the final target of the two Critic models, which is: Qt = r + γ * min(Qt1, Qt2), where γ is the discount factor\n",
        "            target_Q = reward + ((1 - done) * discount * target_Q).detach()\n",
        "\n",
        "            # Step 10: The two Critic models take each the couple (s, a) as input and return two Q-values Q1(s,a) and Q2(s,a) as outputs\n",
        "            current_Q1, current_Q2 = self.critic(state, action.unsqueeze(1))\n",
        "\n",
        "            # Step 11: We compute the loss coming from the two Critic models: Critic Loss = MSE_Loss(Q1(s,a), Qt) + MSE_Loss(Q2(s,a), Qt)\n",
        "            critic_loss = F.mse_loss(current_Q1, target_Q) + F.mse_loss(current_Q2, target_Q)\n",
        "\n",
        "            # Step 12: We backpropagate this Critic loss and update the parameters of the two Critic models with a SGD optimizer\n",
        "            self.critic_optimizer.zero_grad()\n",
        "            critic_loss.backward()\n",
        "            self.critic_optimizer.step()\n",
        "\n",
        "            # Step 13: Once every two iterations, we update our Actor model by performing gradient ascent on the output of the first Critic model\n",
        "            if it % policy_freq == 0:\n",
        "                actor_loss = -self.critic.Q1(state, self.actor(state)).mean()\n",
        "                self.actor_optimizer.zero_grad()\n",
        "                actor_loss.backward()\n",
        "                self.actor_optimizer.step()\n",
        "\n",
        "                # Step 14: Still once every two iterations, we update the weights of the Actor target by polyak averaging\n",
        "                for param, target_param in zip(self.actor.parameters(), self.actor_target.parameters()):\n",
        "                    target_param.data.copy_(tau * param.data + (1 - tau) * target_param.data)\n",
        "\n",
        "                # Step 15: Still once every two iterations, we update the weights of the Critic target by polyak averaging\n",
        "                for param, target_param in zip(self.critic.parameters(), self.critic_target.parameters()):\n",
        "                    target_param.data.copy_(tau * param.data + (1 - tau) * target_param.data)\n",
        "\n",
        "    # Making a save method to save a trained model\n",
        "    def save(self, filename, directory):\n",
        "        torch.save(self.actor.state_dict(), '%s/%s_actor.pth' % (directory, filename))\n",
        "        torch.save(self.critic.state_dict(), '%s/%s_critic.pth' % (directory, filename))\n",
        "  \n",
        "    # Making a load method to load a pre-trained model\n",
        "    def load(self, filename, directory):\n",
        "        self.actor.load_state_dict(torch.load('%s/%s_actor.pth' % (directory, filename)))\n",
        "        self.critic.load_state_dict(torch.load('%s/%s_critic.pth' % (directory, filename)))"
      ],
      "execution_count": 0,
      "outputs": []
    },
    {
      "cell_type": "markdown",
      "metadata": {
        "id": "6rZECdHOR7as",
        "colab_type": "text"
      },
      "source": [
        "## We set the parameters"
      ]
    },
    {
      "cell_type": "code",
      "metadata": {
        "id": "Myen6ZDE5Km_",
        "colab_type": "code",
        "colab": {}
      },
      "source": [
        "env_name = \"AutoCarEnv\" # Name of a environment (set it to any Continous environment you want)\n",
        "seed = 0 # Random seed number\n",
        "start_timesteps = 1e4 # Number of iterations/timesteps before which the model randomly chooses an action, and after which it starts to use the policy network\n",
        "eval_freq = 5e3 # How often the evaluation step is performed (after how many timesteps)\n",
        "max_timesteps = 5e5 # Total number of iterations/timesteps\n",
        "save_models = True # Boolean checker whether or not to save the pre-trained model\n",
        "expl_noise = 0.1 # Exploration noise - STD value of exploration Gaussian noise\n",
        "batch_size = 100 # Size of the batch\n",
        "discount = 0.99 # Discount factor gamma, used in the calculation of the total discounted reward\n",
        "tau = 0.005 # Target network update rate\n",
        "policy_noise = 0.2 # STD of Gaussian noise added to the actions for the exploration purposes\n",
        "noise_clip = 0.5 # Maximum value of the Gaussian noise added to the actions (policy)\n",
        "policy_freq = 2 # Number of iterations to wait before the policy network (Actor model) is updated"
      ],
      "execution_count": 0,
      "outputs": []
    },
    {
      "cell_type": "markdown",
      "metadata": {
        "id": "uOxdxpc1SAse",
        "colab_type": "text"
      },
      "source": [
        "## We create a file name for the two saved models: the Actor and Critic models"
      ]
    },
    {
      "cell_type": "code",
      "metadata": {
        "id": "ioB76yraPqEw",
        "colab_type": "code",
        "colab": {
          "base_uri": "https://localhost:8080/",
          "height": 68
        },
        "outputId": "ef65e7e2-75ba-4d84-bcd8-df92a7c1fbda"
      },
      "source": [
        "file_name = \"%s_%s_%s\" % (\"TD3\", env_name, str(seed))\n",
        "print (\"---------------------------------------\")\n",
        "print (\"Settings: %s\" % (file_name))\n",
        "print (\"---------------------------------------\")"
      ],
      "execution_count": 11,
      "outputs": [
        {
          "output_type": "stream",
          "text": [
            "---------------------------------------\n",
            "Settings: TD3_AutoCarEnv_0\n",
            "---------------------------------------\n"
          ],
          "name": "stdout"
        }
      ]
    },
    {
      "cell_type": "markdown",
      "metadata": {
        "id": "frBhtCvLSESn",
        "colab_type": "text"
      },
      "source": [
        "## We create a folder inside which will be saved the trained models"
      ]
    },
    {
      "cell_type": "code",
      "metadata": {
        "id": "9k8J4BIy5KnC",
        "colab_type": "code",
        "colab": {}
      },
      "source": [
        "if not os.path.exists(\"./results\"):\n",
        "    os.makedirs(\"./results\")\n",
        "if save_models and not os.path.exists(\"./pytorch_models\"):\n",
        "    os.makedirs(\"./pytorch_models\")"
      ],
      "execution_count": 0,
      "outputs": []
    },
    {
      "cell_type": "markdown",
      "metadata": {
        "id": "BCNrq8W9SHhj",
        "colab_type": "text"
      },
      "source": [
        "## We create the AutoCar environment"
      ]
    },
    {
      "cell_type": "code",
      "metadata": {
        "id": "UmsHoVvP5KnE",
        "colab_type": "code",
        "colab": {}
      },
      "source": [
        "env = autocar_env.AutoCarEnv()"
      ],
      "execution_count": 0,
      "outputs": []
    },
    {
      "cell_type": "markdown",
      "metadata": {
        "id": "Do8dZn84SM_1",
        "colab_type": "text"
      },
      "source": [
        "## We set seeds and we get the necessary information on the states and actions in the chosen environment"
      ]
    },
    {
      "cell_type": "code",
      "metadata": {
        "id": "ZdF_OoYK5KnH",
        "colab_type": "code",
        "colab": {}
      },
      "source": [
        "env.seed(seed)\n",
        "torch.manual_seed(seed)\n",
        "np.random.seed(seed)\n",
        "state_dim = env.state_dim\n",
        "action_dim = env.action_dim\n",
        "max_action = env.max_action"
      ],
      "execution_count": 0,
      "outputs": []
    },
    {
      "cell_type": "markdown",
      "metadata": {
        "id": "78gxTqj4SPXP",
        "colab_type": "text"
      },
      "source": [
        "## We create the policy network (the Actor model)"
      ]
    },
    {
      "cell_type": "code",
      "metadata": {
        "id": "Ve8niANC5KnK",
        "colab_type": "code",
        "colab": {}
      },
      "source": [
        "policy = TD3(state_dim, action_dim, max_action)"
      ],
      "execution_count": 0,
      "outputs": []
    },
    {
      "cell_type": "markdown",
      "metadata": {
        "id": "pdhwQG5rSUlX",
        "colab_type": "text"
      },
      "source": [
        "## We create the Experience Replay memory"
      ]
    },
    {
      "cell_type": "code",
      "metadata": {
        "id": "yI4OZlfh5KnO",
        "colab_type": "code",
        "colab": {}
      },
      "source": [
        "replay_buffer = ReplayBuffer()"
      ],
      "execution_count": 0,
      "outputs": []
    },
    {
      "cell_type": "markdown",
      "metadata": {
        "id": "wnEdJP9pSfSl",
        "colab_type": "text"
      },
      "source": [
        "## We initialize the variables"
      ]
    },
    {
      "cell_type": "code",
      "metadata": {
        "id": "MAuWUeMK5KnU",
        "colab_type": "code",
        "colab": {}
      },
      "source": [
        "total_timesteps = 0\n",
        "timesteps_since_eval = 0\n",
        "episode_num = 0\n",
        "done = True\n",
        "t0 = time.time()"
      ],
      "execution_count": 0,
      "outputs": []
    },
    {
      "cell_type": "markdown",
      "metadata": {
        "id": "Kxjf8i62SlSa",
        "colab_type": "text"
      },
      "source": [
        "## Training"
      ]
    },
    {
      "cell_type": "code",
      "metadata": {
        "id": "lsbsk59-5Kna",
        "colab_type": "code",
        "outputId": "7ab5d320-1d01-4916-847b-f99884bb7ace",
        "colab": {
          "base_uri": "https://localhost:8080/",
          "height": 408
        }
      },
      "source": [
        "max_timesteps = 50000\n",
        "# We start the main loop over 500,000 timesteps\n",
        "while total_timesteps < max_timesteps:\n",
        "  \n",
        "    # If the episode is done\n",
        "    if done:\n",
        "        # If we are not at the very beginning, we start the training process of the model\n",
        "        if total_timesteps != 0:\n",
        "            print(\"Total Timesteps: {} Episode Num: {} Reward: {}\".format(total_timesteps, episode_num, episode_reward))\n",
        "            policy.train(replay_buffer, episode_timesteps, batch_size, discount, tau, policy_noise, noise_clip, policy_freq)\n",
        "\n",
        "        # When the training step is done, we reset the state of the environment\n",
        "        obs = env.reset()\n",
        "        # Set the Done to False\n",
        "        done = False\n",
        "\n",
        "        # Set rewards and episode timesteps to zero\n",
        "        episode_reward = 0\n",
        "        episode_timesteps = 0\n",
        "        episode_num += 1\n",
        "\n",
        "    #Before 10000 timesteps, we play random actions\n",
        "    if total_timesteps < start_timesteps:\n",
        "        action = env.sample()\n",
        "    else: # After 10000 timesteps, we switch to the model\n",
        "        action = policy.select_action(obs)\n",
        "        # If the explore_noise parameter is not 0, we add noise to the action and we clip it\n",
        "        if expl_noise != 0:\n",
        "            action = (action + np.random.normal(0, expl_noise, size=action_dim)).clip(env.low, env.high)\n",
        "            action = action[0]\n",
        "    \n",
        "    # The agent performs the action in the environment, then reaches the next state and receives the reward\n",
        "    new_obs, reward, done, _ = env.step(action)\n",
        "    \n",
        "    # We check if the episode is done\n",
        "    done_bool = 0 if episode_timesteps + 1 == env._max_episode_steps else float(done)\n",
        "\n",
        "    # We increase the total reward\n",
        "    episode_reward += reward\n",
        "    \n",
        "    # We store the new transition into the Experience Replay memory (ReplayBuffer)\n",
        "    replay_buffer.add((obs, new_obs, action, reward, done_bool))\n",
        "\n",
        "    # We update the state, the episode timestep, the total timesteps, and the timesteps since the evaluation of the policy\n",
        "    obs = new_obs\n",
        "    episode_timesteps += 1\n",
        "    total_timesteps += 1\n",
        "    timesteps_since_eval += 1\n",
        "\n",
        "    if(episode_reward < -2000):\n",
        "      done = True"
      ],
      "execution_count": 0,
      "outputs": [
        {
          "output_type": "stream",
          "text": [
            "Total Timesteps: 1157 Episode Num: 1 Reward: -2001.7000000000028\n",
            "Total Timesteps: 1795 Episode Num: 2 Reward: -1232.4000000000005\n",
            "Total Timesteps: 2963 Episode Num: 3 Reward: -2001.0000000000002\n",
            "Total Timesteps: 3105 Episode Num: 4 Reward: -272.1999999999999\n",
            "Total Timesteps: 3749 Episode Num: 5 Reward: -1065.6000000000008\n",
            "Total Timesteps: 3813 Episode Num: 6 Reward: -136\n",
            "Total Timesteps: 4834 Episode Num: 7 Reward: -2000.600000000001\n",
            "Total Timesteps: 5943 Episode Num: 8 Reward: -2001.1000000000015\n",
            "Total Timesteps: 7042 Episode Num: 9 Reward: -2000.7000000000014\n",
            "Total Timesteps: 8109 Episode Num: 10 Reward: -2001.5000000000005\n",
            "Total Timesteps: 9159 Episode Num: 11 Reward: -2001.6000000000006\n",
            "Total Timesteps: 9620 Episode Num: 12 Reward: -888.7000000000005\n",
            "Total Timesteps: 10648 Episode Num: 13 Reward: -2000.2000000000003\n",
            "Total Timesteps: 11713 Episode Num: 14 Reward: -2000.9\n",
            "Total Timesteps: 12714 Episode Num: 15 Reward: -2002\n",
            "Total Timesteps: 13883 Episode Num: 16 Reward: -2001.400000000002\n",
            "Total Timesteps: 14884 Episode Num: 17 Reward: -2002\n",
            "Total Timesteps: 16037 Episode Num: 18 Reward: -2000.2000000000014\n",
            "Total Timesteps: 17095 Episode Num: 19 Reward: -2001.2000000000005\n",
            "Total Timesteps: 18096 Episode Num: 20 Reward: -2002\n",
            "Total Timesteps: 19097 Episode Num: 21 Reward: -2002\n",
            "Total Timesteps: 20157 Episode Num: 22 Reward: -2001.7000000000007\n",
            "Total Timesteps: 21363 Episode Num: 23 Reward: -2001.200000000002\n"
          ],
          "name": "stdout"
        }
      ]
    }
  ]
}